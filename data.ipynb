{
 "cells": [
  {
   "cell_type": "markdown",
   "metadata": {},
   "source": [
    "Creating a url API setup\n"
   ]
  },
  {
   "cell_type": "code",
   "execution_count": null,
   "metadata": {},
   "outputs": [],
   "source": [
    "import requests\n",
    "import pandas as pd\n",
    "from pandas import json_normalize\n",
    "import matplotlib.pyplot as plt\n",
    " # get the url\n",
    "URL = \"https://api.frankfurter.app/2013-01-01..2023-01-31\"\n",
    "\n",
    "# make a request to the API and store it in response object in a dataframe visual \n",
    "response = requests.get(URL).json()\n",
    "df = pd.DataFrame(response)\n",
    "\n",
    "#normalizing the col \n",
    "new_rates = json_normalize(df[\"rates\"])\n",
    "\n",
    "#resetting the index of df\n",
    "df = df.reset_index()\n",
    " \n",
    " #then we drop the old rates col\n",
    "df = df.drop(\"rates\",axis=1)\n",
    "\n",
    "# now to coc the new rates col to the df\n",
    "df = pd.concat([df,new_rates], axis=1)\n",
    "\n",
    "#lets get a simple summary statistic of our df\n",
    "df.describe()\n"
   ]
  },
  {
   "cell_type": "markdown",
   "metadata": {},
   "source": [
    "1. How has the exchange rate of the Euro (EUR) against the US Dollar (USD) changed over time?"
   ]
  },
  {
   "cell_type": "code",
   "execution_count": null,
   "metadata": {},
   "outputs": [],
   "source": [
    "# we are going to visualize line chart using plt\n",
    "df[[\"base\",\"USD\"]].plot.line( x= \"base\", y=\"USD\" ,title = \"Exchange rate from EUR to USD\", color='orange' )\n",
    "plt.show"
   ]
  },
  {
   "cell_type": "markdown",
   "metadata": {},
   "source": [
    "2. What is the distribution of exchange rates for the Chinese Yuan (CNY) against the Euro (EUR)?"
   ]
  },
  {
   "cell_type": "code",
   "execution_count": null,
   "metadata": {},
   "outputs": [],
   "source": [
    "# we are going to visualize histogram using plt\n",
    "df.plot.hist( x= \"base\", y=\"CNY\",bins=10, edgecolor='black',title = \"Distribution Plot of CNY to EUR Exchange Rates\", color='green' )\n",
    "plt.show\n",
    "\n",
    "\n"
   ]
  },
  {
   "cell_type": "markdown",
   "metadata": {},
   "source": [
    "3. Between the Great British Pound (GBP) and the Japanese Yen (JPY) determine which country's currency is more volatile"
   ]
  },
  {
   "cell_type": "code",
   "execution_count": null,
   "metadata": {},
   "outputs": [],
   "source": [
    "# we are going to visualize bar chart using plt\n",
    "df.plot.bar( x= \"GBP\", y=\"JPY\" ,title = \"Volatility between GBP & JPY\", color='blue' )\n",
    "plt.show"
   ]
  }
 ],
 "metadata": {
  "kernelspec": {
   "display_name": "minimal_ds",
   "language": "python",
   "name": "python3"
  },
  "language_info": {
   "name": "python",
   "version": "3.10.12"
  }
 },
 "nbformat": 4,
 "nbformat_minor": 2
}
